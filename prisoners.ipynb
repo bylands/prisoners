{
 "cells": [
  {
   "cell_type": "code",
   "execution_count": null,
   "metadata": {},
   "outputs": [],
   "source": [
    "import random"
   ]
  },
  {
   "cell_type": "code",
   "execution_count": null,
   "metadata": {},
   "outputs": [],
   "source": [
    "def get_cycles(drawers):\n",
    "    \n",
    "    N = len(drawers)\n",
    "    nums = list(range(N))\n",
    "    cycles = []\n",
    "\n",
    "    while nums:\n",
    "        current_drawer = nums[0]\n",
    "        cycle = [current_drawer]\n",
    "        nums.remove(current_drawer)\n",
    "        \n",
    "        while nums:\n",
    "            if (next_drawer:=drawers[current_drawer]) in cycle:\n",
    "                break\n",
    "\n",
    "            else:\n",
    "                cycle.append(next_drawer)\n",
    "                nums.remove(next_drawer)\n",
    "                current_drawer = next_drawer\n",
    "        cycles.append(cycle)\n",
    "\n",
    "    return cycles\n",
    "\n"
   ]
  },
  {
   "cell_type": "code",
   "execution_count": null,
   "metadata": {},
   "outputs": [],
   "source": [
    "N = 100\n",
    "prisoners = list(range(N))\n",
    "\n",
    "trials = 100000\n",
    "survived = 0\n",
    "\n",
    "for i in range(trials):\n",
    "    prisoners_rnd = random.sample(prisoners, N)\n",
    "    drawers = {p:pr for p, pr in zip(prisoners, prisoners_rnd)}\n",
    "\n",
    "    cycles = get_cycles(drawers)\n",
    "\n",
    "    if len(max(cycles, key=len)) < N//2:\n",
    "        survived += 1\n",
    "\n",
    "print(f'survived {survived} times ({survived/trials:.1%})')"
   ]
  },
  {
   "cell_type": "code",
   "execution_count": null,
   "metadata": {},
   "outputs": [],
   "source": [
    "N = 10\n",
    "prisoners = list(range(N))\n",
    "\n",
    "trials = 1000000\n",
    "survived = trials\n",
    "\n",
    "for i in range(trials):\n",
    "    prisoners_rnd = random.sample(prisoners, N)\n",
    "    drawers = {p:pr for p, pr in zip(prisoners, prisoners_rnd)}\n",
    "    # print(f'drawers: {drawers}')\n",
    "\n",
    "    for p in prisoners:\n",
    "        # print(f'prisoner {p}')\n",
    "        success = 0\n",
    "        for guess in random.sample(range(N), N//2):\n",
    "            # print(f'guess: {guess}, found {drawers[guess]}')\n",
    "            if drawers[guess] == p:\n",
    "                success = 1\n",
    "                break\n",
    "        if not success:\n",
    "            # print('failed!')\n",
    "            survived -= 1\n",
    "            # print(survived)\n",
    "            break         \n",
    "\n",
    "print(f'survived {survived} times ({survived/trials:.3%})')"
   ]
  },
  {
   "cell_type": "code",
   "execution_count": null,
   "metadata": {},
   "outputs": [],
   "source": []
  }
 ],
 "metadata": {
  "language_info": {
   "name": "python",
   "pygments_lexer": "ipython3"
  }
 },
 "nbformat": 4,
 "nbformat_minor": 2
}
